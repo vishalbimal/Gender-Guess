{
 "cells": [
  {
   "cell_type": "code",
   "execution_count": 1,
   "metadata": {},
   "outputs": [],
   "source": [
    "import pandas"
   ]
  },
  {
   "cell_type": "code",
   "execution_count": 2,
   "metadata": {},
   "outputs": [
    {
     "data": {
      "application/javascript": "\n        if (window._pyforest_update_imports_cell) { window._pyforest_update_imports_cell('import pandas as pd'); }\n    ",
      "text/plain": [
       "<IPython.core.display.Javascript object>"
      ]
     },
     "metadata": {},
     "output_type": "display_data"
    }
   ],
   "source": [
    "df = pd.read_csv(\"baby-names-state.csv\",low_memory=False)"
   ]
  },
  {
   "cell_type": "code",
   "execution_count": 3,
   "metadata": {},
   "outputs": [],
   "source": [
    "df1=df[['sex','name']]"
   ]
  },
  {
   "cell_type": "code",
   "execution_count": 4,
   "metadata": {},
   "outputs": [
    {
     "data": {
      "text/html": [
       "<div>\n",
       "<style scoped>\n",
       "    .dataframe tbody tr th:only-of-type {\n",
       "        vertical-align: middle;\n",
       "    }\n",
       "\n",
       "    .dataframe tbody tr th {\n",
       "        vertical-align: top;\n",
       "    }\n",
       "\n",
       "    .dataframe thead th {\n",
       "        text-align: right;\n",
       "    }\n",
       "</style>\n",
       "<table border=\"1\" class=\"dataframe\">\n",
       "  <thead>\n",
       "    <tr style=\"text-align: right;\">\n",
       "      <th></th>\n",
       "      <th>sex</th>\n",
       "      <th>name</th>\n",
       "    </tr>\n",
       "  </thead>\n",
       "  <tbody>\n",
       "    <tr>\n",
       "      <th>0</th>\n",
       "      <td>F</td>\n",
       "      <td>Mary</td>\n",
       "    </tr>\n",
       "    <tr>\n",
       "      <th>1</th>\n",
       "      <td>F</td>\n",
       "      <td>Annie</td>\n",
       "    </tr>\n",
       "    <tr>\n",
       "      <th>2</th>\n",
       "      <td>F</td>\n",
       "      <td>Anna</td>\n",
       "    </tr>\n",
       "    <tr>\n",
       "      <th>3</th>\n",
       "      <td>F</td>\n",
       "      <td>Margaret</td>\n",
       "    </tr>\n",
       "    <tr>\n",
       "      <th>4</th>\n",
       "      <td>F</td>\n",
       "      <td>Helen</td>\n",
       "    </tr>\n",
       "    <tr>\n",
       "      <th>...</th>\n",
       "      <td>...</td>\n",
       "      <td>...</td>\n",
       "    </tr>\n",
       "    <tr>\n",
       "      <th>6215829</th>\n",
       "      <td>M</td>\n",
       "      <td>Simon</td>\n",
       "    </tr>\n",
       "    <tr>\n",
       "      <th>6215830</th>\n",
       "      <td>M</td>\n",
       "      <td>Sterling</td>\n",
       "    </tr>\n",
       "    <tr>\n",
       "      <th>6215831</th>\n",
       "      <td>M</td>\n",
       "      <td>Stetson</td>\n",
       "    </tr>\n",
       "    <tr>\n",
       "      <th>6215832</th>\n",
       "      <td>M</td>\n",
       "      <td>Timothy</td>\n",
       "    </tr>\n",
       "    <tr>\n",
       "      <th>6215833</th>\n",
       "      <td>M</td>\n",
       "      <td>Wesley</td>\n",
       "    </tr>\n",
       "  </tbody>\n",
       "</table>\n",
       "<p>6215834 rows × 2 columns</p>\n",
       "</div>"
      ],
      "text/plain": [
       "        sex      name\n",
       "0         F      Mary\n",
       "1         F     Annie\n",
       "2         F      Anna\n",
       "3         F  Margaret\n",
       "4         F     Helen\n",
       "...      ..       ...\n",
       "6215829   M     Simon\n",
       "6215830   M  Sterling\n",
       "6215831   M   Stetson\n",
       "6215832   M   Timothy\n",
       "6215833   M    Wesley\n",
       "\n",
       "[6215834 rows x 2 columns]"
      ]
     },
     "execution_count": 4,
     "metadata": {},
     "output_type": "execute_result"
    }
   ],
   "source": [
    "df1"
   ]
  },
  {
   "cell_type": "code",
   "execution_count": 5,
   "metadata": {},
   "outputs": [
    {
     "name": "stderr",
     "output_type": "stream",
     "text": [
      "C:\\Users\\visha\\AppData\\Local\\Temp\\ipykernel_11400\\292176771.py:17: SettingWithCopyWarning: \n",
      "A value is trying to be set on a copy of a slice from a DataFrame.\n",
      "Try using .loc[row_indexer,col_indexer] = value instead\n",
      "\n",
      "See the caveats in the documentation: https://pandas.pydata.org/pandas-docs/stable/user_guide/indexing.html#returning-a-view-versus-a-copy\n",
      "  df1['name'] = df1['name'].str.lower()\n",
      "C:\\Users\\visha\\AppData\\Local\\Temp\\ipykernel_11400\\292176771.py:20: SettingWithCopyWarning: \n",
      "A value is trying to be set on a copy of a slice from a DataFrame.\n",
      "Try using .loc[row_indexer,col_indexer] = value instead\n",
      "\n",
      "See the caveats in the documentation: https://pandas.pydata.org/pandas-docs/stable/user_guide/indexing.html#returning-a-view-versus-a-copy\n",
      "  df1['sex'] = df1['sex'].map({'M': 0, 'F': 1})\n"
     ]
    },
    {
     "name": "stdout",
     "output_type": "stream",
     "text": [
      "sex     0\n",
      "name    0\n",
      "dtype: int64\n"
     ]
    },
    {
     "name": "stderr",
     "output_type": "stream",
     "text": [
      "c:\\Users\\visha\\anaconda3\\lib\\site-packages\\sklearn\\linear_model\\_logistic.py:814: ConvergenceWarning: lbfgs failed to converge (status=1):\n",
      "STOP: TOTAL NO. of ITERATIONS REACHED LIMIT.\n",
      "\n",
      "Increase the number of iterations (max_iter) or scale the data as shown in:\n",
      "    https://scikit-learn.org/stable/modules/preprocessing.html\n",
      "Please also refer to the documentation for alternative solver options:\n",
      "    https://scikit-learn.org/stable/modules/linear_model.html#logistic-regression\n",
      "  n_iter_i = _check_optimize_result(\n"
     ]
    },
    {
     "name": "stdout",
     "output_type": "stream",
     "text": [
      "Accuracy: 0.9347\n",
      "Classification Report:\n",
      "              precision    recall  f1-score   support\n",
      "\n",
      "           0       0.92      0.93      0.93    551629\n",
      "           1       0.94      0.94      0.94    691538\n",
      "\n",
      "    accuracy                           0.93   1243167\n",
      "   macro avg       0.93      0.93      0.93   1243167\n",
      "weighted avg       0.93      0.93      0.93   1243167\n",
      "\n",
      "Confusion Matrix:\n",
      "[[513181  38448]\n",
      " [ 42789 648749]]\n"
     ]
    },
    {
     "data": {
      "image/png": "[encoded data removed]",
      "text/plain": [
       "<Figure size 600x400 with 2 Axes>"
      ]
     },
     "metadata": {},
     "output_type": "display_data"
    },
    {
     "data": {
      "text/plain": [
       "['gender_prediction_model.pkl']"
      ]
     },
     "execution_count": 5,
     "metadata": {},
     "output_type": "execute_result"
    }
   ],
   "source": [
    "# Import necessary libraries\n",
    "import pandas as pd\n",
    "from sklearn.model_selection import train_test_split\n",
    "from sklearn.feature_extraction.text import CountVectorizer\n",
    "from sklearn.linear_model import LogisticRegression\n",
    "from sklearn.metrics import classification_report, accuracy_score, confusion_matrix\n",
    "import seaborn as sns\n",
    "import matplotlib.pyplot as plt\n",
    "\n",
    "# 1. Load the dataset\n",
    "# Replace 'name_gender_dataset.csv' with your actual dataset\n",
    "# The dataset is assumed to have columns: 'name' and 'gender' (Male/Female)\n",
    "# df = pd.read_csv('name_gender_dataset.csv')\n",
    "\n",
    "# 2. Data Preprocessing\n",
    "# Convert names to lowercase\n",
    "df1['name'] = df1['name'].str.lower()\n",
    "\n",
    "# Label encoding: 'male' -> 0, 'female' -> 1\n",
    "df1['sex'] = df1['sex'].map({'M': 0, 'F': 1})\n",
    "\n",
    "# Check for missing values (optional)\n",
    "print(df1.isnull().sum())\n",
    "\n",
    "# 3. Feature Engineering\n",
    "# Using character n-grams (1 to 3 characters)\n",
    "vectorizer = CountVectorizer(analyzer='char', ngram_range=(1, 3))\n",
    "\n",
    "# Transform the 'name' column into features\n",
    "X = vectorizer.fit_transform(df1['name'])\n",
    "y = df1['sex']\n",
    "\n",
    "# 4. Train-test split (80% training, 20% testing)\n",
    "X_train, X_test, y_train, y_test = train_test_split(X, y, test_size=0.2, random_state=42)\n",
    "\n",
    "# 5. Model Training\n",
    "# Logistic Regression model\n",
    "model = LogisticRegression()\n",
    "model.fit(X_train, y_train)\n",
    "\n",
    "# 6. Model Evaluation\n",
    "# Predict on test set\n",
    "y_pred = model.predict(X_test)\n",
    "\n",
    "# Accuracy score\n",
    "accuracy = accuracy_score(y_test, y_pred)\n",
    "print(f'Accuracy: {accuracy:.4f}')\n",
    "\n",
    "# Classification report (precision, recall, F1-score)\n",
    "print(\"Classification Report:\")\n",
    "print(classification_report(y_test, y_pred))\n",
    "\n",
    "# Confusion matrix\n",
    "cm = confusion_matrix(y_test, y_pred)\n",
    "print(\"Confusion Matrix:\")\n",
    "print(cm)\n",
    "\n",
    "# Plotting the confusion matrix for visualization\n",
    "plt.figure(figsize=(6,4))\n",
    "sns.heatmap(cm, annot=True, fmt='d', cmap='Blues', xticklabels=['Male', 'Female'], yticklabels=['Male', 'Female'])\n",
    "plt.xlabel('Predicted')\n",
    "plt.ylabel('Actual')\n",
    "plt.title('Confusion Matrix')\n",
    "plt.show()\n",
    "\n",
    "# 7. Model Deployment\n",
    "# You can save the model for future use\n",
    "import joblib\n",
    "joblib.dump(model, 'gender_prediction_model.pkl')\n"
   ]
  },
  {
   "cell_type": "code",
   "execution_count": 6,
   "metadata": {},
   "outputs": [
    {
     "name": "stderr",
     "output_type": "stream",
     "text": [
      "C:\\Users\\visha\\AppData\\Local\\Temp\\ipykernel_11400\\1768474814.py:11: SettingWithCopyWarning: \n",
      "A value is trying to be set on a copy of a slice from a DataFrame.\n",
      "Try using .loc[row_indexer,col_indexer] = value instead\n",
      "\n",
      "See the caveats in the documentation: https://pandas.pydata.org/pandas-docs/stable/user_guide/indexing.html#returning-a-view-versus-a-copy\n",
      "  df1['name'] = df1['name'].str.lower()\n"
     ]
    },
    {
     "name": "stdout",
     "output_type": "stream",
     "text": [
      "Name: John, Predicted Gender: M\n",
      "Name: Emma, Predicted Gender: F\n",
      "Name: Aarav, Predicted Gender: M\n",
      "Name: Sophia, Predicted Gender: F\n"
     ]
    }
   ],
   "source": [
    "import joblib\n",
    "import pandas as pd\n",
    "from sklearn.feature_extraction.text import CountVectorizer\n",
    "\n",
    "# 1. Load the trained model\n",
    "model = joblib.load('gender_prediction_model.pkl')\n",
    "\n",
    "# 2. Load the same vectorizer used during training\n",
    "# We need to fit the vectorizer on the same data it was trained on\n",
    "# df = pd.read_csv('name_gender_dataset.csv')\n",
    "df1['name'] = df1['name'].str.lower()\n",
    "\n",
    "# Initialize the vectorizer and fit it again on the same data\n",
    "vectorizer = CountVectorizer(analyzer='char', ngram_range=(1, 3))\n",
    "X = vectorizer.fit_transform(df1['name'])\n",
    "\n",
    "# 3. Define a function to preprocess and predict new data\n",
    "def predict_gender(names):\n",
    "    # Ensure the names are in a list\n",
    "    if isinstance(names, str):\n",
    "        names = [names]\n",
    "\n",
    "    # Preprocess: Convert to lowercase and transform using the same vectorizer\n",
    "    names_transformed = vectorizer.transform([name.lower() for name in names])\n",
    "\n",
    "    # Predict using the loaded model\n",
    "    predictions = model.predict(names_transformed)\n",
    "    \n",
    "    # Map numerical predictions back to 'male' and 'female'\n",
    "    gender_map = {0: 'M', 1: 'F'}\n",
    "    predicted_genders = [gender_map[pred] for pred in predictions]\n",
    "    \n",
    "    return list(zip(names, predicted_genders))\n",
    "\n",
    "\n"
   ]
  },
  {
   "cell_type": "code",
   "execution_count": 17,
   "metadata": {},
   "outputs": [
    {
     "name": "stdout",
     "output_type": "stream",
     "text": [
      "Name: Jay, Predicted Gender: M\n"
     ]
    }
   ],
   "source": [
    "# 4. Example: Predict gender for new names\n",
    "new_names = [\"Jay\"]\n",
    "predicted_genders = predict_gender(new_names)\n",
    "\n",
    "# 5. Output the predictions\n",
    "for name, gender in predicted_genders:\n",
    "    print(f\"Name: {name}, Predicted Gender: {gender}\")"
   ]
  },
  {
   "cell_type": "code",
   "execution_count": null,
   "metadata": {},
   "outputs": [],
   "source": []
  },
  {
   "cell_type": "code",
   "execution_count": null,
   "metadata": {},
   "outputs": [],
   "source": []
  },
  {
   "cell_type": "code",
   "execution_count": null,
   "metadata": {},
   "outputs": [],
   "source": []
  },
  {
   "cell_type": "code",
   "execution_count": 8,
   "metadata": {},
   "outputs": [],
   "source": [
    "# Import necessary libraries\n",
    "import pandas as pd\n",
    "from sklearn.model_selection import train_test_split\n",
    "from sklearn.feature_extraction.text import CountVectorizer\n",
    "from sklearn.linear_model import LogisticRegression\n",
    "from sklearn.ensemble import RandomForestClassifier, GradientBoostingClassifier\n",
    "from sklearn.svm import SVC\n",
    "from sklearn.metrics import accuracy_score, classification_report\n",
    "import warnings\n",
    "\n",
    "# Ignore warnings for cleaner output\n",
    "warnings.filterwarnings(\"ignore\")\n",
    "\n",
    "# Load the dataset (replace with your dataset)\n",
    "# df = pd.read_csv('name_gender_dataset.csv')\n",
    "\n",
    "# Preprocessing\n",
    "df1['name'] = df1['name'].str.lower()  # Convert names to lowercase\n",
    "df1['sex'] = df1['sex'].map({'M': 0, 'F': 1})  # Label encoding\n",
    "\n",
    "# Feature extraction using character n-grams\n",
    "vectorizer = CountVectorizer(analyzer='char', ngram_range=(1, 3))\n",
    "X = vectorizer.fit_transform(df1['name'])\n",
    "y = df1['sex']\n"
   ]
  },
  {
   "cell_type": "code",
   "execution_count": 9,
   "metadata": {},
   "outputs": [
    {
     "data": {
      "text/plain": [
       "0          1\n",
       "1          1\n",
       "2          1\n",
       "3          1\n",
       "4          1\n",
       "          ..\n",
       "6215829    0\n",
       "6215830    0\n",
       "6215831    0\n",
       "6215832    0\n",
       "6215833    0\n",
       "Name: sex, Length: 6215834, dtype: int64"
      ]
     },
     "execution_count": 9,
     "metadata": {},
     "output_type": "execute_result"
    }
   ],
   "source": [
    "y"
   ]
  },
  {
   "cell_type": "code",
   "execution_count": 10,
   "metadata": {},
   "outputs": [
    {
     "name": "stdout",
     "output_type": "stream",
     "text": [
      "### Results for Test Size: 0.2 ###\n",
      "\n",
      "--- Logistic Regression ---\n",
      "Accuracy: 0.9347\n",
      "              precision    recall  f1-score   support\n",
      "\n",
      "           0       0.92      0.93      0.93    551629\n",
      "           1       0.94      0.94      0.94    691538\n",
      "\n",
      "    accuracy                           0.93   1243167\n",
      "   macro avg       0.93      0.93      0.93   1243167\n",
      "weighted avg       0.93      0.93      0.93   1243167\n",
      "\n",
      "--- Random Forest ---\n"
     ]
    }
   ],
   "source": [
    "\n",
    "# Algorithms to evaluate\n",
    "algorithms = {\n",
    "    'Logistic Regression': LogisticRegression(),\n",
    "    'Random Forest': RandomForestClassifier(),\n",
    "    'Support Vector Machine': SVC(),\n",
    "    'Gradient Boosting': GradientBoostingClassifier()\n",
    "}\n",
    "\n",
    "# Test sizes to evaluate\n",
    "test_sizes = [0.2, 0.3]\n",
    "\n",
    "# Loop through different test sizes and algorithms\n",
    "for test_size in test_sizes:\n",
    "    print(f\"### Results for Test Size: {test_size} ###\\n\")\n",
    "    \n",
    "    # Split the data\n",
    "    X_train, X_test, y_train, y_test = train_test_split(X, y, test_size=test_size, random_state=42)\n",
    "\n",
    "    for name, model in algorithms.items():\n",
    "        print(f\"--- {name} ---\")\n",
    "        \n",
    "        # Train the model\n",
    "        model.fit(X_train, y_train)\n",
    "        \n",
    "        # Make predictions\n",
    "        y_pred = model.predict(X_test)\n",
    "        \n",
    "        # Calculate accuracy\n",
    "        accuracy = accuracy_score(y_test, y_pred)\n",
    "        print(f\"Accuracy: {accuracy:.4f}\")\n",
    "        \n",
    "        # Print classification report\n",
    "        print(classification_report(y_test, y_pred))\n",
    "        \n",
    "    print(\"\\n\" + \"#\" * 50 + \"\\n\")\n",
    "\n"
   ]
  },
  {
   "cell_type": "code",
   "execution_count": null,
   "metadata": {},
   "outputs": [],
   "source": []
  }
 ],
 "metadata": {
  "kernelspec": {
   "display_name": "base",
   "language": "python",
   "name": "python3"
  },
  "language_info": {
   "codemirror_mode": {
    "name": "ipython",
    "version": 3
   },
   "file_extension": ".py",
   "mimetype": "text/x-python",
   "name": "python",
   "nbconvert_exporter": "python",
   "pygments_lexer": "ipython3",
   "version": "3.9.13"
  },
  "orig_nbformat": 4
 },
 "nbformat": 4,
 "nbformat_minor": 2
}
